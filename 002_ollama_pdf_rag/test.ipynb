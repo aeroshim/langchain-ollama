{
 "cells": [
  {
   "cell_type": "code",
   "execution_count": 1,
   "metadata": {},
   "outputs": [],
   "source": [
    "# Ollama 모델 로드 및 테스트\n",
    "from langchain_community.chat_models import ChatOllama\n",
    "\n",
    "model = ChatOllama(model=\"gemma:7b-instruct\", temperature=0)\n",
    "\n",
    "response = model.invoke(\"겨울철에 내한성이 강한 나무에는 어떤 것이 있을까요?\")"
   ]
  },
  {
   "cell_type": "code",
   "execution_count": 3,
   "metadata": {},
   "outputs": [
    {
     "data": {
      "text/plain": [
       "AIMessage(content='겨울철에 내한성이 강한 나무에는 다음과 같은 나무가 포함됩니다.\\n\\n**주요 내한성 나무:**\\n\\n* **소나무:** 전국에 걸쳐 분포되어 있으며, 겨울철에는 강한 내한성을 보유합니다.\\n* **참나무:** 동쪽의 해변가에서 많이 볼 수 있는 나무로, 겨울철에는 강한 내한성을 보유합니다.\\n* **사나버:** 동쪽의 해변가에서 많이 볼 수 있는 나무로, 겨울철에는 강한 내한성을 보유합니다.\\n* **오크:** 북동부의 산맥에서 많이 볼 수 있는 나무로, 겨울철에는 강한 내한성을 보유합니다.\\n* **느티:** 북부의 산맥에서 많이 볼 수 있는 나무로, 겨울철에는 강한 내한성을 보유합니다.\\n\\n**겨울철에 내한성이 약한 나무:**\\n\\n* **동백:** 겨울철에는 내한성이 약하여 주의를 요구합니다.\\n* **수나:** 겨울철에는 내한성이 약하여 주의를 요구합니다.\\n* **사자:** 겨울철에는 내한성이 약하여 주의를 요구합니다.\\n* **주목:** 겨울철에는 내한성이 약하여 주의를 요구합니다.\\n\\n**겨울철에 내한성이 강한 나무를 선택하려면 다음 요소를 고려하세요:**\\n\\n* **위치:** 겨울철에 강한 내한성을 보유한 나무는 해풍이나 눈보온 지역에 잘 적응합니다.\\n* **종:** 겨울철에 강한 내한성을 보유한 나무 종은 다양하지만, 소나무, 참나무, 사나버 등이 가장 강한 내한성을 보유합니다.\\n* **성장:** 겨울철에 강한 내한성을 보유한 나무는 성장이 잘 이루어집니다.', response_metadata={'model': 'gemma:7b-instruct', 'created_at': '2024-03-30T05:07:17.867944Z', 'message': {'role': 'assistant', 'content': ''}, 'done': True, 'total_duration': 154934861100, 'load_duration': 10243082700, 'prompt_eval_count': 29, 'prompt_eval_duration': 6644969000, 'eval_count': 460, 'eval_duration': 138043627000})"
      ]
     },
     "execution_count": 3,
     "metadata": {},
     "output_type": "execute_result"
    }
   ],
   "source": [
    "response"
   ]
  },
  {
   "cell_type": "code",
   "execution_count": 6,
   "metadata": {},
   "outputs": [
    {
     "data": {
      "text/plain": [
       "'경남교육 2022 - 250\\n수\\n목 관리 업무매뉴얼\\n수목 관리 \\n업무매뉴얼 쾌적한 학교 공간 재구성을 위한\\n 쾌적한 학교 공간 재구성을 위한\\n수목 관리\\n업무매뉴얼҃թҮਭ'"
      ]
     },
     "execution_count": 6,
     "metadata": {},
     "output_type": "execute_result"
    }
   ],
   "source": [
    "# PDF 문서 로드 및 텍스트 추출\n",
    "from langchain_community.document_loaders import PyPDFLoader\n",
    "\n",
    "loader = PyPDFLoader(\"경남교육청_수목관리_업무매뉴얼.pdf\", extract_images=False)\n",
    "pages = loader.load()\n",
    "pages[0].page_content"
   ]
  },
  {
   "cell_type": "code",
   "execution_count": 7,
   "metadata": {},
   "outputs": [
    {
     "name": "stderr",
     "output_type": "stream",
     "text": [
      "c:\\Users\\tsdata\\AppData\\Local\\pypoetry\\Cache\\virtualenvs\\ollama-pdf-rag-j5v6ObUr-py3.11\\Lib\\site-packages\\tqdm\\auto.py:21: TqdmWarning: IProgress not found. Please update jupyter and ipywidgets. See https://ipywidgets.readthedocs.io/en/stable/user_install.html\n",
      "  from .autonotebook import tqdm as notebook_tqdm\n",
      "c:\\Users\\tsdata\\AppData\\Local\\pypoetry\\Cache\\virtualenvs\\ollama-pdf-rag-j5v6ObUr-py3.11\\Lib\\site-packages\\huggingface_hub\\file_download.py:148: UserWarning: `huggingface_hub` cache-system uses symlinks by default to efficiently store duplicated files but your machine does not support them in C:\\Users\\tsdata\\.cache\\huggingface\\hub\\models--jhgan--ko-sroberta-nli. Caching files will still work but in a degraded version that might require more space on your disk. This warning can be disabled by setting the `HF_HUB_DISABLE_SYMLINKS_WARNING` environment variable. For more details, see https://huggingface.co/docs/huggingface_hub/how-to-cache#limitations.\n",
      "To support symlinks on Windows, you either need to activate Developer Mode or to run Python as an administrator. In order to see activate developer mode, see this article: https://docs.microsoft.com/en-us/windows/apps/get-started/enable-your-device-for-development\n",
      "  warnings.warn(message)\n"
     ]
    }
   ],
   "source": [
    "# 문장 임베딩 및 벡터 저장소 생성\n",
    "from langchain.text_splitter import RecursiveCharacterTextSplitter\n",
    "from langchain_community.embeddings import HuggingFaceEmbeddings\n",
    "from langchain_community.vectorstores import Chroma\n",
    "\n",
    "# 문서를 문장으로 분리\n",
    "text_splitter = RecursiveCharacterTextSplitter(\n",
    "    chunk_size=1000,\n",
    "    chunk_overlap=100,\n",
    ")\n",
    "\n",
    "docs = text_splitter.split_documents(pages)\n",
    "\n",
    "# 문장을 임베딩으로 변환하고 벡터 저장소에 저장\n",
    "embeddings = HuggingFaceEmbeddings(\n",
    "    model_name='jhgan/ko-sroberta-nli',\n",
    "    model_kwargs={'device':'cpu'},\n",
    "    encode_kwargs={'normalize_embeddings':True},\n",
    ")\n",
    "\n",
    "vectorstore = Chroma.from_documents(docs, embeddings)\n"
   ]
  },
  {
   "cell_type": "code",
   "execution_count": 8,
   "metadata": {},
   "outputs": [
    {
     "name": "stdout",
     "output_type": "stream",
     "text": [
      "5\n",
      "나) 수종별 내한성에 따른 전정 \n",
      "  추위를 잘 견디어 내는 나무의 성질을 내한성이라고 한다. 생장 중인 잎이나 가는 가지 등에서 일어나는 상해(霜害)에 대한 저항성을 포함하는 경우와, 휴면 중인 가지나 엄동기\n",
      "{'page': 139, 'source': '경남교육청_수목관리_업무매뉴얼.pdf'}\n"
     ]
    }
   ],
   "source": [
    "# 검색 쿼리\n",
    "query = \"겨울철에 내한성이 강한 나무에는 어떤 것이 있을까요?\"\n",
    "\n",
    "# 가장 유사도가 높은 문장을 하나만 추출\n",
    "retriever = vectorstore.as_retriever(search_kwargs={'k': 5})\n",
    "\n",
    "docs = retriever.get_relevant_documents(query)\n",
    "print(len(docs))\n",
    "print(docs[0].page_content)\n",
    "print(docs[0].metadata)"
   ]
  },
  {
   "cell_type": "code",
   "execution_count": 9,
   "metadata": {},
   "outputs": [
    {
     "name": "stdout",
     "output_type": "stream",
     "text": [
      "(1) 내한성은 동절기 중 극히 낮은 온도에 견디는 능력이다. \n",
      "(가) 내한성이 강한 수종은 한대림에서 자라는 수종으로 자작나무, 오리나무, 사\n",
      "시나무, 버드나무류, 소나무, 잣나무, 전나무 등이 해당된다. \n",
      "(나) 내한성이 약한 수종은 삼나무, 편백, 금송, 히말라야시다, 배롱나무, 파라칸\n",
      "타, 동백나무, 후박나무, 먼나무 등 주로 남부 지역에서 자라는 수종과 자목련, 사철나무, 가이즈까향나무, 능소화, 벽오동, 오동나무 등이다. \n",
      "(다) 내한성이 약한 수종은 수간을 볏짚이나 새끼 끈으로 싸 주고, 상열을 막기\n",
      "{'page': 110, 'source': '경남교육청_수목관리_업무매뉴얼.pdf'}\n"
     ]
    }
   ],
   "source": [
    "print(docs[1].page_content)\n",
    "print(docs[1].metadata)"
   ]
  },
  {
   "cell_type": "code",
   "execution_count": 10,
   "metadata": {},
   "outputs": [
    {
     "data": {
      "text/plain": [
       "'겨울철에 내한성이 강한 나무에는 자작나무, 오리나무, 사시나무, 버드나무류, 소나무, 잣나무, 전나무 등이 해당됩니다.'"
      ]
     },
     "execution_count": 10,
     "metadata": {},
     "output_type": "execute_result"
    }
   ],
   "source": [
    "from langchain.prompts import ChatPromptTemplate\n",
    "from langchain.schema.output_parser import StrOutputParser\n",
    "from langchain.schema.runnable import RunnablePassthrough\n",
    "\n",
    "\n",
    "# Prompt\n",
    "template = '''Answer the question based only on the following context:\n",
    "{context}\n",
    "\n",
    "Question: {question}\n",
    "'''\n",
    "\n",
    "prompt = ChatPromptTemplate.from_template(template)\n",
    "\n",
    "\n",
    "def format_docs(docs):\n",
    "    return '\\n\\n'.join([d.page_content for d in docs])\n",
    "\n",
    "# RAG Chain 연결\n",
    "rag_chain = (\n",
    "    {'context': retriever | format_docs, 'question': RunnablePassthrough()}\n",
    "    | prompt\n",
    "    | model\n",
    "    | StrOutputParser()\n",
    ")\n",
    "\n",
    "# Chain 실행\n",
    "query = \"겨울철에 내한성이 강한 나무에는 어떤 것이 있을까요?\"\n",
    "rag_chain.invoke(query)\n"
   ]
  },
  {
   "cell_type": "code",
   "execution_count": 11,
   "metadata": {},
   "outputs": [
    {
     "data": {
      "text/plain": [
       "'겨울철에 추위에 약한 나무에는 잎이 없어 수형을 보기 쉽다.'"
      ]
     },
     "execution_count": 11,
     "metadata": {},
     "output_type": "execute_result"
    }
   ],
   "source": [
    "query = \"겨울철에 추위에 약한 나무에는 어떤 것이 있을까요?\"\n",
    "rag_chain.invoke(query)"
   ]
  }
 ],
 "metadata": {
  "kernelspec": {
   "display_name": "ollama-pdf-rag-j5v6ObUr-py3.11",
   "language": "python",
   "name": "python3"
  },
  "language_info": {
   "codemirror_mode": {
    "name": "ipython",
    "version": 3
   },
   "file_extension": ".py",
   "mimetype": "text/x-python",
   "name": "python",
   "nbconvert_exporter": "python",
   "pygments_lexer": "ipython3",
   "version": "3.11.5"
  }
 },
 "nbformat": 4,
 "nbformat_minor": 2
}
